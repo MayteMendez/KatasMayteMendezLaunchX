{
 "cells": [
  {
   "cell_type": "markdown",
   "metadata": {},
   "source": [
    "# Kata 3"
   ]
  },
  {
   "cell_type": "code",
   "execution_count": 1,
   "metadata": {},
   "outputs": [
    {
     "name": "stdout",
     "output_type": "stream",
     "text": [
      "¡Un asteroide se acerca!\n"
     ]
    }
   ],
   "source": [
    "asteroide = 49\n",
    "if asteroide > 25:\n",
    "    print(\"¡Un asteroide se acerca!\")\n",
    "else:\n",
    "    print(\"Todo bien\")"
   ]
  },
  {
   "cell_type": "code",
   "execution_count": 3,
   "metadata": {},
   "outputs": [
    {
     "name": "stdout",
     "output_type": "stream",
     "text": [
      "No se ve nada\n"
     ]
    }
   ],
   "source": [
    "asteroide = 19\n",
    "if asteroide > 20:\n",
    "    print(\"Se ve un destello en el cielo\")\n",
    "elif asteroide == 20:\n",
    "    print(\"Se ve un destello en el cielo\")\n",
    "else:\n",
    "    print(\"No se ve nada sospechoso en el cielo\")"
   ]
  },
  {
   "cell_type": "code",
   "execution_count": 4,
   "metadata": {},
   "outputs": [
    {
     "name": "stdout",
     "output_type": "stream",
     "text": [
      "Se ve un destello en el cielo\n"
     ]
    }
   ],
   "source": [
    "velocidad = 25\n",
    "tamaño = 50\n",
    "if velocidad > 25 and tamaño > 25:\n",
    "    print(\"Un asteroide se aproxima a la Tierra\")\n",
    "elif velocidad >= 20:\n",
    "    print(\"Se ve un destello en el cielo\")\n",
    "elif tamaño < 25:\n",
    "    print(\"No se ve nada sospechoso en el cielo\")\n",
    "else:\n",
    "    print(\"No se ve nada sospechoso en el cielo\")"
   ]
  }
 ],
 "metadata": {
  "interpreter": {
   "hash": "2d67b7c43de9122407e97cb96e274fb0c0a74163da27154f38c6506e52de6eec"
  },
  "kernelspec": {
   "display_name": "Python 3.9.10 64-bit (windows store)",
   "language": "python",
   "name": "python3"
  },
  "language_info": {
   "codemirror_mode": {
    "name": "ipython",
    "version": 3
   },
   "file_extension": ".py",
   "mimetype": "text/x-python",
   "name": "python",
   "nbconvert_exporter": "python",
   "pygments_lexer": "ipython3",
   "version": "3.9.10"
  },
  "orig_nbformat": 4
 },
 "nbformat": 4,
 "nbformat_minor": 2
}
